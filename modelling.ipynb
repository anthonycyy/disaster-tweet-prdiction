{
 "cells": [
  {
   "cell_type": "markdown",
   "metadata": {},
   "source": [
    "# Modelling"
   ]
  },
  {
   "cell_type": "markdown",
   "metadata": {},
   "source": [
    "### import packages"
   ]
  },
  {
   "cell_type": "code",
   "execution_count": 1,
   "metadata": {},
   "outputs": [],
   "source": [
    "import numpy as np\n",
    "import pandas as pd\n",
    "import matplotlib.pyplot as plt\n",
    "import seaborn as sns\n",
    "import sklearn\n",
    "\n",
    "import os\n",
    "import itertools\n",
    "from collections import Counter\n",
    "import re\n",
    "import string\n",
    "\n",
    "from nltk.corpus import stopwords \n",
    "from nltk.tokenize import word_tokenize\n",
    "from nltk.stem import WordNetLemmatizer\n",
    "from nltk.stem.porter import PorterStemmer\n",
    "from nltk.stem.lancaster import LancasterStemmer\n",
    "import contractions\n",
    "from wordcloud import WordCloud\n",
    "\n",
    "from sklearn.preprocessing import StandardScaler\n",
    "from sklearn.preprocessing import MinMaxScaler\n",
    "\n",
    "from sklearn.feature_extraction.text import CountVectorizer\n",
    "from sklearn.model_selection import train_test_split\n",
    "from sklearn.linear_model import LogisticRegression\n",
    "from sklearn.svm import SVC\n",
    "from sklearn.ensemble import RandomForestClassifier\n",
    "\n",
    "from sklearn.metrics import f1_score\n",
    "from sklearn import metrics"
   ]
  },
  {
   "cell_type": "code",
   "execution_count": 2,
   "metadata": {},
   "outputs": [],
   "source": [
    "from sklearn.feature_extraction.text import TfidfTransformer\n",
    "from sklearn.pipeline import Pipeline\n",
    "\n",
    "from sklearn.feature_extraction.text import TfidfVectorizer\n",
    "\n",
    "from sklearn.naive_bayes import GaussianNB\n",
    "from sklearn.ensemble import VotingClassifier\n",
    "\n",
    "from joblib import dump, load"
   ]
  },
  {
   "cell_type": "markdown",
   "metadata": {},
   "source": [
    "### import cleaned data"
   ]
  },
  {
   "cell_type": "markdown",
   "metadata": {},
   "source": [
    "import the cleaned data csv created from data_cleaning.ipynb"
   ]
  },
  {
   "cell_type": "code",
   "execution_count": 3,
   "metadata": {},
   "outputs": [],
   "source": [
    "df_tweets=pd.read_csv('train_cleaned.csv')"
   ]
  },
  {
   "cell_type": "code",
   "execution_count": 4,
   "metadata": {},
   "outputs": [
    {
     "data": {
      "text/html": [
       "<div>\n",
       "<style scoped>\n",
       "    .dataframe tbody tr th:only-of-type {\n",
       "        vertical-align: middle;\n",
       "    }\n",
       "\n",
       "    .dataframe tbody tr th {\n",
       "        vertical-align: top;\n",
       "    }\n",
       "\n",
       "    .dataframe thead th {\n",
       "        text-align: right;\n",
       "    }\n",
       "</style>\n",
       "<table border=\"1\" class=\"dataframe\">\n",
       "  <thead>\n",
       "    <tr style=\"text-align: right;\">\n",
       "      <th></th>\n",
       "      <th>id</th>\n",
       "      <th>text</th>\n",
       "      <th>target</th>\n",
       "      <th>text_length</th>\n",
       "      <th>nos_uppercase</th>\n",
       "      <th>nos_punc</th>\n",
       "      <th>nos_words</th>\n",
       "      <th>perc_uppercase</th>\n",
       "      <th>perc_punc</th>\n",
       "      <th>hashtags</th>\n",
       "      <th>nos_hashtags</th>\n",
       "      <th>perc_hashtags</th>\n",
       "      <th>clean_text</th>\n",
       "    </tr>\n",
       "  </thead>\n",
       "  <tbody>\n",
       "    <tr>\n",
       "      <th>0</th>\n",
       "      <td>1</td>\n",
       "      <td>Our Deeds are the Reason of this #earthquake M...</td>\n",
       "      <td>1</td>\n",
       "      <td>69</td>\n",
       "      <td>10</td>\n",
       "      <td>1</td>\n",
       "      <td>13</td>\n",
       "      <td>0.144928</td>\n",
       "      <td>0.014493</td>\n",
       "      <td>earthquake</td>\n",
       "      <td>1</td>\n",
       "      <td>0.076923</td>\n",
       "      <td>deed reason may allah forgive u</td>\n",
       "    </tr>\n",
       "    <tr>\n",
       "      <th>1</th>\n",
       "      <td>4</td>\n",
       "      <td>Forest fire near La Ronge Sask. Canada</td>\n",
       "      <td>1</td>\n",
       "      <td>38</td>\n",
       "      <td>5</td>\n",
       "      <td>1</td>\n",
       "      <td>7</td>\n",
       "      <td>0.131579</td>\n",
       "      <td>0.026316</td>\n",
       "      <td>NaN</td>\n",
       "      <td>0</td>\n",
       "      <td>0.000000</td>\n",
       "      <td>forest fire near la ronge sask canada</td>\n",
       "    </tr>\n",
       "    <tr>\n",
       "      <th>2</th>\n",
       "      <td>5</td>\n",
       "      <td>All residents asked to 'shelter in place' are ...</td>\n",
       "      <td>1</td>\n",
       "      <td>133</td>\n",
       "      <td>2</td>\n",
       "      <td>3</td>\n",
       "      <td>22</td>\n",
       "      <td>0.015038</td>\n",
       "      <td>0.022556</td>\n",
       "      <td>NaN</td>\n",
       "      <td>0</td>\n",
       "      <td>0.000000</td>\n",
       "      <td>resident asked 'shelter place notified officer...</td>\n",
       "    </tr>\n",
       "    <tr>\n",
       "      <th>3</th>\n",
       "      <td>6</td>\n",
       "      <td>13,000 people receive #wildfires evacuation or...</td>\n",
       "      <td>1</td>\n",
       "      <td>65</td>\n",
       "      <td>1</td>\n",
       "      <td>2</td>\n",
       "      <td>8</td>\n",
       "      <td>0.015385</td>\n",
       "      <td>0.030769</td>\n",
       "      <td>wildfires</td>\n",
       "      <td>1</td>\n",
       "      <td>0.125000</td>\n",
       "      <td>people receive evacuation order california</td>\n",
       "    </tr>\n",
       "    <tr>\n",
       "      <th>4</th>\n",
       "      <td>7</td>\n",
       "      <td>Just got sent this photo from Ruby #Alaska as ...</td>\n",
       "      <td>1</td>\n",
       "      <td>88</td>\n",
       "      <td>3</td>\n",
       "      <td>2</td>\n",
       "      <td>16</td>\n",
       "      <td>0.034091</td>\n",
       "      <td>0.022727</td>\n",
       "      <td>alaska wildfires</td>\n",
       "      <td>2</td>\n",
       "      <td>0.125000</td>\n",
       "      <td>got sent photo ruby smoke pours school</td>\n",
       "    </tr>\n",
       "  </tbody>\n",
       "</table>\n",
       "</div>"
      ],
      "text/plain": [
       "   id                                               text  target  text_length  \\\n",
       "0   1  Our Deeds are the Reason of this #earthquake M...       1           69   \n",
       "1   4             Forest fire near La Ronge Sask. Canada       1           38   \n",
       "2   5  All residents asked to 'shelter in place' are ...       1          133   \n",
       "3   6  13,000 people receive #wildfires evacuation or...       1           65   \n",
       "4   7  Just got sent this photo from Ruby #Alaska as ...       1           88   \n",
       "\n",
       "   nos_uppercase  nos_punc  nos_words  perc_uppercase  perc_punc  \\\n",
       "0             10         1         13        0.144928   0.014493   \n",
       "1              5         1          7        0.131579   0.026316   \n",
       "2              2         3         22        0.015038   0.022556   \n",
       "3              1         2          8        0.015385   0.030769   \n",
       "4              3         2         16        0.034091   0.022727   \n",
       "\n",
       "           hashtags  nos_hashtags  perc_hashtags  \\\n",
       "0        earthquake             1       0.076923   \n",
       "1               NaN             0       0.000000   \n",
       "2               NaN             0       0.000000   \n",
       "3         wildfires             1       0.125000   \n",
       "4  alaska wildfires             2       0.125000   \n",
       "\n",
       "                                          clean_text  \n",
       "0                    deed reason may allah forgive u  \n",
       "1              forest fire near la ronge sask canada  \n",
       "2  resident asked 'shelter place notified officer...  \n",
       "3         people receive evacuation order california  \n",
       "4             got sent photo ruby smoke pours school  "
      ]
     },
     "execution_count": 4,
     "metadata": {},
     "output_type": "execute_result"
    }
   ],
   "source": [
    "df_tweets.head()"
   ]
  },
  {
   "cell_type": "code",
   "execution_count": 5,
   "metadata": {},
   "outputs": [
    {
     "data": {
      "text/html": [
       "<div>\n",
       "<style scoped>\n",
       "    .dataframe tbody tr th:only-of-type {\n",
       "        vertical-align: middle;\n",
       "    }\n",
       "\n",
       "    .dataframe tbody tr th {\n",
       "        vertical-align: top;\n",
       "    }\n",
       "\n",
       "    .dataframe thead th {\n",
       "        text-align: right;\n",
       "    }\n",
       "</style>\n",
       "<table border=\"1\" class=\"dataframe\">\n",
       "  <thead>\n",
       "    <tr style=\"text-align: right;\">\n",
       "      <th></th>\n",
       "      <th>id</th>\n",
       "      <th>target</th>\n",
       "      <th>text_length</th>\n",
       "      <th>nos_uppercase</th>\n",
       "      <th>nos_punc</th>\n",
       "      <th>nos_words</th>\n",
       "      <th>perc_uppercase</th>\n",
       "      <th>perc_punc</th>\n",
       "      <th>nos_hashtags</th>\n",
       "      <th>perc_hashtags</th>\n",
       "    </tr>\n",
       "  </thead>\n",
       "  <tbody>\n",
       "    <tr>\n",
       "      <th>count</th>\n",
       "      <td>7613.000000</td>\n",
       "      <td>7613.00000</td>\n",
       "      <td>7613.000000</td>\n",
       "      <td>7613.000000</td>\n",
       "      <td>7613.000000</td>\n",
       "      <td>7613.000000</td>\n",
       "      <td>7613.000000</td>\n",
       "      <td>7613.000000</td>\n",
       "      <td>7613.000000</td>\n",
       "      <td>7613.000000</td>\n",
       "    </tr>\n",
       "    <tr>\n",
       "      <th>mean</th>\n",
       "      <td>5441.934848</td>\n",
       "      <td>0.42966</td>\n",
       "      <td>101.037436</td>\n",
       "      <td>9.923158</td>\n",
       "      <td>6.839485</td>\n",
       "      <td>15.734270</td>\n",
       "      <td>0.099661</td>\n",
       "      <td>0.068092</td>\n",
       "      <td>0.437410</td>\n",
       "      <td>0.028682</td>\n",
       "    </tr>\n",
       "    <tr>\n",
       "      <th>std</th>\n",
       "      <td>3137.116090</td>\n",
       "      <td>0.49506</td>\n",
       "      <td>33.781325</td>\n",
       "      <td>10.436544</td>\n",
       "      <td>4.608758</td>\n",
       "      <td>5.904715</td>\n",
       "      <td>0.107443</td>\n",
       "      <td>0.043268</td>\n",
       "      <td>1.085629</td>\n",
       "      <td>0.071075</td>\n",
       "    </tr>\n",
       "    <tr>\n",
       "      <th>min</th>\n",
       "      <td>1.000000</td>\n",
       "      <td>0.00000</td>\n",
       "      <td>7.000000</td>\n",
       "      <td>0.000000</td>\n",
       "      <td>0.000000</td>\n",
       "      <td>1.000000</td>\n",
       "      <td>0.000000</td>\n",
       "      <td>0.000000</td>\n",
       "      <td>0.000000</td>\n",
       "      <td>0.000000</td>\n",
       "    </tr>\n",
       "    <tr>\n",
       "      <th>25%</th>\n",
       "      <td>2734.000000</td>\n",
       "      <td>0.00000</td>\n",
       "      <td>78.000000</td>\n",
       "      <td>3.000000</td>\n",
       "      <td>3.000000</td>\n",
       "      <td>11.000000</td>\n",
       "      <td>0.038462</td>\n",
       "      <td>0.037037</td>\n",
       "      <td>0.000000</td>\n",
       "      <td>0.000000</td>\n",
       "    </tr>\n",
       "    <tr>\n",
       "      <th>50%</th>\n",
       "      <td>5408.000000</td>\n",
       "      <td>0.00000</td>\n",
       "      <td>107.000000</td>\n",
       "      <td>7.000000</td>\n",
       "      <td>6.000000</td>\n",
       "      <td>16.000000</td>\n",
       "      <td>0.074627</td>\n",
       "      <td>0.066176</td>\n",
       "      <td>0.000000</td>\n",
       "      <td>0.000000</td>\n",
       "    </tr>\n",
       "    <tr>\n",
       "      <th>75%</th>\n",
       "      <td>8146.000000</td>\n",
       "      <td>1.00000</td>\n",
       "      <td>133.000000</td>\n",
       "      <td>13.000000</td>\n",
       "      <td>10.000000</td>\n",
       "      <td>20.000000</td>\n",
       "      <td>0.125926</td>\n",
       "      <td>0.090909</td>\n",
       "      <td>0.000000</td>\n",
       "      <td>0.000000</td>\n",
       "    </tr>\n",
       "    <tr>\n",
       "      <th>max</th>\n",
       "      <td>10873.000000</td>\n",
       "      <td>1.00000</td>\n",
       "      <td>157.000000</td>\n",
       "      <td>118.000000</td>\n",
       "      <td>61.000000</td>\n",
       "      <td>32.000000</td>\n",
       "      <td>1.000000</td>\n",
       "      <td>0.500000</td>\n",
       "      <td>13.000000</td>\n",
       "      <td>0.750000</td>\n",
       "    </tr>\n",
       "  </tbody>\n",
       "</table>\n",
       "</div>"
      ],
      "text/plain": [
       "                 id      target  text_length  nos_uppercase     nos_punc  \\\n",
       "count   7613.000000  7613.00000  7613.000000    7613.000000  7613.000000   \n",
       "mean    5441.934848     0.42966   101.037436       9.923158     6.839485   \n",
       "std     3137.116090     0.49506    33.781325      10.436544     4.608758   \n",
       "min        1.000000     0.00000     7.000000       0.000000     0.000000   \n",
       "25%     2734.000000     0.00000    78.000000       3.000000     3.000000   \n",
       "50%     5408.000000     0.00000   107.000000       7.000000     6.000000   \n",
       "75%     8146.000000     1.00000   133.000000      13.000000    10.000000   \n",
       "max    10873.000000     1.00000   157.000000     118.000000    61.000000   \n",
       "\n",
       "         nos_words  perc_uppercase    perc_punc  nos_hashtags  perc_hashtags  \n",
       "count  7613.000000     7613.000000  7613.000000   7613.000000    7613.000000  \n",
       "mean     15.734270        0.099661     0.068092      0.437410       0.028682  \n",
       "std       5.904715        0.107443     0.043268      1.085629       0.071075  \n",
       "min       1.000000        0.000000     0.000000      0.000000       0.000000  \n",
       "25%      11.000000        0.038462     0.037037      0.000000       0.000000  \n",
       "50%      16.000000        0.074627     0.066176      0.000000       0.000000  \n",
       "75%      20.000000        0.125926     0.090909      0.000000       0.000000  \n",
       "max      32.000000        1.000000     0.500000     13.000000       0.750000  "
      ]
     },
     "execution_count": 5,
     "metadata": {},
     "output_type": "execute_result"
    }
   ],
   "source": [
    "df_tweets.describe()"
   ]
  },
  {
   "cell_type": "code",
   "execution_count": 6,
   "metadata": {},
   "outputs": [
    {
     "data": {
      "text/plain": [
       "id                   0\n",
       "text                 0\n",
       "target               0\n",
       "text_length          0\n",
       "nos_uppercase        0\n",
       "nos_punc             0\n",
       "nos_words            0\n",
       "perc_uppercase       0\n",
       "perc_punc            0\n",
       "hashtags          5870\n",
       "nos_hashtags         0\n",
       "perc_hashtags        0\n",
       "clean_text           6\n",
       "dtype: int64"
      ]
     },
     "execution_count": 6,
     "metadata": {},
     "output_type": "execute_result"
    }
   ],
   "source": [
    "df_tweets.isnull().sum()"
   ]
  },
  {
   "cell_type": "markdown",
   "metadata": {},
   "source": [
    "null in hashtags is because there is no hashtags <br>\n",
    "null in clean_text is because all words in orginal text are removed <br>"
   ]
  },
  {
   "cell_type": "code",
   "execution_count": 7,
   "metadata": {},
   "outputs": [],
   "source": [
    "#get all the feature columns\n",
    "all_cols=list(df_tweets.columns)"
   ]
  },
  {
   "cell_type": "code",
   "execution_count": 8,
   "metadata": {},
   "outputs": [],
   "source": [
    "all_cols.remove('target')"
   ]
  },
  {
   "cell_type": "code",
   "execution_count": 9,
   "metadata": {},
   "outputs": [],
   "source": [
    "#categorize the features into numeric colummns and text columns by their data type\n",
    "numeric_cols=[]\n",
    "text_cols=[]\n",
    "for col in all_cols:\n",
    "    data_type=df_tweets[col].dtype\n",
    "    if data_type=='O':\n",
    "        text_cols.append(col)\n",
    "    else:\n",
    "        numeric_cols.append(col)"
   ]
  },
  {
   "cell_type": "code",
   "execution_count": 10,
   "metadata": {},
   "outputs": [],
   "source": [
    "#remove id and original text columns\n",
    "if 'id' in numeric_cols:\n",
    "    numeric_cols.remove('id')\n",
    "if 'text' in text_cols:\n",
    "    text_cols.remove('text')"
   ]
  },
  {
   "cell_type": "code",
   "execution_count": 11,
   "metadata": {},
   "outputs": [],
   "source": [
    "#remove number of uppercase, punctuation and hashtags columns\n",
    "#they are used to create the respective percentage columns\n",
    "for col in ['nos_uppercase','nos_punc','nos_hashtags']:\n",
    "    numeric_cols.remove(col)"
   ]
  },
  {
   "cell_type": "code",
   "execution_count": 12,
   "metadata": {},
   "outputs": [
    {
     "name": "stdout",
     "output_type": "stream",
     "text": [
      "['text_length', 'nos_words', 'perc_uppercase', 'perc_punc', 'perc_hashtags'] ['hashtags', 'clean_text']\n"
     ]
    }
   ],
   "source": [
    "print(numeric_cols,text_cols)"
   ]
  },
  {
   "cell_type": "code",
   "execution_count": 13,
   "metadata": {},
   "outputs": [],
   "source": [
    "#fill the nulls in cleaned text and hashtags by \" \" for applying vectorizer\n",
    "for col in text_cols:\n",
    "    df_tweets[col].fillna(\" \",inplace=True)"
   ]
  },
  {
   "cell_type": "markdown",
   "metadata": {},
   "source": [
    "### train test split"
   ]
  },
  {
   "cell_type": "code",
   "execution_count": 14,
   "metadata": {},
   "outputs": [],
   "source": [
    "#train test split, 20% as test\n",
    "X=df_tweets[numeric_cols+text_cols]\n",
    "y=df_tweets['target']\n",
    "X_train, X_test, y_train, y_test = train_test_split(X, y, test_size=0.2, random_state=42)"
   ]
  },
  {
   "cell_type": "markdown",
   "metadata": {},
   "source": [
    "### Feature engineering"
   ]
  },
  {
   "cell_type": "markdown",
   "metadata": {},
   "source": [
    "The following feature engineering will be done: <br>\n",
    "tfidf vectorizer on cleaned text <br>\n",
    "tfidf vectorizer on hastags <br>\n",
    "min max scaler on length of text and no of word tokens <br>"
   ]
  },
  {
   "cell_type": "markdown",
   "metadata": {},
   "source": [
    "#### Countvectorize"
   ]
  },
  {
   "cell_type": "code",
   "execution_count": 15,
   "metadata": {},
   "outputs": [
    {
     "data": {
      "text/html": [
       "<div>\n",
       "<style scoped>\n",
       "    .dataframe tbody tr th:only-of-type {\n",
       "        vertical-align: middle;\n",
       "    }\n",
       "\n",
       "    .dataframe tbody tr th {\n",
       "        vertical-align: top;\n",
       "    }\n",
       "\n",
       "    .dataframe thead th {\n",
       "        text-align: right;\n",
       "    }\n",
       "</style>\n",
       "<table border=\"1\" class=\"dataframe\">\n",
       "  <thead>\n",
       "    <tr style=\"text-align: right;\">\n",
       "      <th></th>\n",
       "      <th>text_length</th>\n",
       "      <th>nos_words</th>\n",
       "      <th>perc_uppercase</th>\n",
       "      <th>perc_punc</th>\n",
       "      <th>perc_hashtags</th>\n",
       "      <th>hashtags</th>\n",
       "      <th>clean_text</th>\n",
       "    </tr>\n",
       "  </thead>\n",
       "  <tbody>\n",
       "    <tr>\n",
       "      <th>4996</th>\n",
       "      <td>140</td>\n",
       "      <td>19</td>\n",
       "      <td>0.064286</td>\n",
       "      <td>0.057143</td>\n",
       "      <td>0.052632</td>\n",
       "      <td>hiroshima70</td>\n",
       "      <td>courageous honest analysis need use atomic bom...</td>\n",
       "    </tr>\n",
       "    <tr>\n",
       "      <th>3263</th>\n",
       "      <td>98</td>\n",
       "      <td>15</td>\n",
       "      <td>0.051020</td>\n",
       "      <td>0.040816</td>\n",
       "      <td>0.066667</td>\n",
       "      <td>boycottbears</td>\n",
       "      <td>wld b shame golf cart became engulfed flame</td>\n",
       "    </tr>\n",
       "    <tr>\n",
       "      <th>4907</th>\n",
       "      <td>143</td>\n",
       "      <td>23</td>\n",
       "      <td>0.132867</td>\n",
       "      <td>0.083916</td>\n",
       "      <td>0.000000</td>\n",
       "      <td></td>\n",
       "      <td>tell rescind medal 'honor given u soldier mass...</td>\n",
       "    </tr>\n",
       "    <tr>\n",
       "      <th>2855</th>\n",
       "      <td>118</td>\n",
       "      <td>18</td>\n",
       "      <td>0.101695</td>\n",
       "      <td>0.067797</td>\n",
       "      <td>0.000000</td>\n",
       "      <td></td>\n",
       "      <td>worried ca drought might affect extreme weathe...</td>\n",
       "    </tr>\n",
       "    <tr>\n",
       "      <th>4716</th>\n",
       "      <td>82</td>\n",
       "      <td>9</td>\n",
       "      <td>0.146341</td>\n",
       "      <td>0.073171</td>\n",
       "      <td>0.111111</td>\n",
       "      <td>pantherattack</td>\n",
       "      <td>lava blast power red alifaditha</td>\n",
       "    </tr>\n",
       "  </tbody>\n",
       "</table>\n",
       "</div>"
      ],
      "text/plain": [
       "      text_length  nos_words  perc_uppercase  perc_punc  perc_hashtags  \\\n",
       "4996          140         19        0.064286   0.057143       0.052632   \n",
       "3263           98         15        0.051020   0.040816       0.066667   \n",
       "4907          143         23        0.132867   0.083916       0.000000   \n",
       "2855          118         18        0.101695   0.067797       0.000000   \n",
       "4716           82          9        0.146341   0.073171       0.111111   \n",
       "\n",
       "           hashtags                                         clean_text  \n",
       "4996    hiroshima70  courageous honest analysis need use atomic bom...  \n",
       "3263   boycottbears        wld b shame golf cart became engulfed flame  \n",
       "4907                 tell rescind medal 'honor given u soldier mass...  \n",
       "2855                 worried ca drought might affect extreme weathe...  \n",
       "4716  pantherattack                    lava blast power red alifaditha  "
      ]
     },
     "execution_count": 15,
     "metadata": {},
     "output_type": "execute_result"
    }
   ],
   "source": [
    "X_train.head()"
   ]
  },
  {
   "cell_type": "code",
   "execution_count": 16,
   "metadata": {},
   "outputs": [],
   "source": [
    "#a function to train words countvectorizer\n",
    "def train_vectorizer(df,col,max_features=1000,scaled=True):\n",
    "    if scaled:\n",
    "        vectorizer = TfidfVectorizer(analyzer = \"word\",\n",
    "                                 tokenizer = None,\n",
    "                                 preprocessor = None,\n",
    "                                 stop_words = None,\n",
    "                                 max_features = max_features)\n",
    "    else:\n",
    "        vectorizer = CountVectorizer(analyzer = \"word\",\n",
    "                                 tokenizer = None,\n",
    "                                 preprocessor = None,\n",
    "                                 stop_words = None,\n",
    "                                 max_features = max_features)\n",
    "    features = vectorizer.fit_transform(df[col])\n",
    "    features = features.toarray()\n",
    "    df_features=pd.DataFrame(data=features,columns=vectorizer.get_feature_names_out(),index=df.index)\n",
    "    return vectorizer,df_features"
   ]
  },
  {
   "cell_type": "code",
   "execution_count": 17,
   "metadata": {},
   "outputs": [],
   "source": [
    "#a function to apply word countvectorizer\n",
    "def apply_vectorizer(df,col,vectorizer):\n",
    "    features = vectorizer.transform(df[col])\n",
    "    features = features.toarray()\n",
    "    df_features=pd.DataFrame(data=features,columns=vectorizer.get_feature_names_out(),index=df.index)\n",
    "    return df_features"
   ]
  },
  {
   "cell_type": "code",
   "execution_count": 18,
   "metadata": {},
   "outputs": [],
   "source": [
    "#train the word vectorizer\n",
    "text_vectorizer,X_train_text=train_vectorizer(X_train,'clean_text',max_features=2500)\n",
    "hashtags_vectorizer,X_train_hashtags=train_vectorizer(X_train,'hashtags',max_features=500)"
   ]
  },
  {
   "cell_type": "code",
   "execution_count": 19,
   "metadata": {},
   "outputs": [],
   "source": [
    "#apply the word vectorizer\n",
    "X_test_text=apply_vectorizer(X_test,'clean_text',text_vectorizer)\n",
    "X_test_hashtags=apply_vectorizer(X_test,'hashtags',hashtags_vectorizer)"
   ]
  },
  {
   "cell_type": "code",
   "execution_count": 20,
   "metadata": {},
   "outputs": [
    {
     "data": {
      "text/html": [
       "<div>\n",
       "<style scoped>\n",
       "    .dataframe tbody tr th:only-of-type {\n",
       "        vertical-align: middle;\n",
       "    }\n",
       "\n",
       "    .dataframe tbody tr th {\n",
       "        vertical-align: top;\n",
       "    }\n",
       "\n",
       "    .dataframe thead th {\n",
       "        text-align: right;\n",
       "    }\n",
       "</style>\n",
       "<table border=\"1\" class=\"dataframe\">\n",
       "  <thead>\n",
       "    <tr style=\"text-align: right;\">\n",
       "      <th></th>\n",
       "      <th>aa</th>\n",
       "      <th>aba</th>\n",
       "      <th>abandoned</th>\n",
       "      <th>abbswinston</th>\n",
       "      <th>abc</th>\n",
       "      <th>ability</th>\n",
       "      <th>ablaze</th>\n",
       "      <th>able</th>\n",
       "      <th>absolutely</th>\n",
       "      <th>abuse</th>\n",
       "      <th>...</th>\n",
       "      <th>yo</th>\n",
       "      <th>yobe</th>\n",
       "      <th>york</th>\n",
       "      <th>you</th>\n",
       "      <th>young</th>\n",
       "      <th>youth</th>\n",
       "      <th>youtube</th>\n",
       "      <th>yr</th>\n",
       "      <th>zombie</th>\n",
       "      <th>zone</th>\n",
       "    </tr>\n",
       "  </thead>\n",
       "  <tbody>\n",
       "    <tr>\n",
       "      <th>4996</th>\n",
       "      <td>0.0</td>\n",
       "      <td>0.0</td>\n",
       "      <td>0.0</td>\n",
       "      <td>0.0</td>\n",
       "      <td>0.0</td>\n",
       "      <td>0.0</td>\n",
       "      <td>0.0</td>\n",
       "      <td>0.0</td>\n",
       "      <td>0.0</td>\n",
       "      <td>0.0</td>\n",
       "      <td>...</td>\n",
       "      <td>0.0</td>\n",
       "      <td>0.0</td>\n",
       "      <td>0.0</td>\n",
       "      <td>0.0</td>\n",
       "      <td>0.0</td>\n",
       "      <td>0.0</td>\n",
       "      <td>0.0</td>\n",
       "      <td>0.0</td>\n",
       "      <td>0.0</td>\n",
       "      <td>0.0</td>\n",
       "    </tr>\n",
       "    <tr>\n",
       "      <th>3263</th>\n",
       "      <td>0.0</td>\n",
       "      <td>0.0</td>\n",
       "      <td>0.0</td>\n",
       "      <td>0.0</td>\n",
       "      <td>0.0</td>\n",
       "      <td>0.0</td>\n",
       "      <td>0.0</td>\n",
       "      <td>0.0</td>\n",
       "      <td>0.0</td>\n",
       "      <td>0.0</td>\n",
       "      <td>...</td>\n",
       "      <td>0.0</td>\n",
       "      <td>0.0</td>\n",
       "      <td>0.0</td>\n",
       "      <td>0.0</td>\n",
       "      <td>0.0</td>\n",
       "      <td>0.0</td>\n",
       "      <td>0.0</td>\n",
       "      <td>0.0</td>\n",
       "      <td>0.0</td>\n",
       "      <td>0.0</td>\n",
       "    </tr>\n",
       "    <tr>\n",
       "      <th>4907</th>\n",
       "      <td>0.0</td>\n",
       "      <td>0.0</td>\n",
       "      <td>0.0</td>\n",
       "      <td>0.0</td>\n",
       "      <td>0.0</td>\n",
       "      <td>0.0</td>\n",
       "      <td>0.0</td>\n",
       "      <td>0.0</td>\n",
       "      <td>0.0</td>\n",
       "      <td>0.0</td>\n",
       "      <td>...</td>\n",
       "      <td>0.0</td>\n",
       "      <td>0.0</td>\n",
       "      <td>0.0</td>\n",
       "      <td>0.0</td>\n",
       "      <td>0.0</td>\n",
       "      <td>0.0</td>\n",
       "      <td>0.0</td>\n",
       "      <td>0.0</td>\n",
       "      <td>0.0</td>\n",
       "      <td>0.0</td>\n",
       "    </tr>\n",
       "    <tr>\n",
       "      <th>2855</th>\n",
       "      <td>0.0</td>\n",
       "      <td>0.0</td>\n",
       "      <td>0.0</td>\n",
       "      <td>0.0</td>\n",
       "      <td>0.0</td>\n",
       "      <td>0.0</td>\n",
       "      <td>0.0</td>\n",
       "      <td>0.0</td>\n",
       "      <td>0.0</td>\n",
       "      <td>0.0</td>\n",
       "      <td>...</td>\n",
       "      <td>0.0</td>\n",
       "      <td>0.0</td>\n",
       "      <td>0.0</td>\n",
       "      <td>0.0</td>\n",
       "      <td>0.0</td>\n",
       "      <td>0.0</td>\n",
       "      <td>0.0</td>\n",
       "      <td>0.0</td>\n",
       "      <td>0.0</td>\n",
       "      <td>0.0</td>\n",
       "    </tr>\n",
       "    <tr>\n",
       "      <th>4716</th>\n",
       "      <td>0.0</td>\n",
       "      <td>0.0</td>\n",
       "      <td>0.0</td>\n",
       "      <td>0.0</td>\n",
       "      <td>0.0</td>\n",
       "      <td>0.0</td>\n",
       "      <td>0.0</td>\n",
       "      <td>0.0</td>\n",
       "      <td>0.0</td>\n",
       "      <td>0.0</td>\n",
       "      <td>...</td>\n",
       "      <td>0.0</td>\n",
       "      <td>0.0</td>\n",
       "      <td>0.0</td>\n",
       "      <td>0.0</td>\n",
       "      <td>0.0</td>\n",
       "      <td>0.0</td>\n",
       "      <td>0.0</td>\n",
       "      <td>0.0</td>\n",
       "      <td>0.0</td>\n",
       "      <td>0.0</td>\n",
       "    </tr>\n",
       "  </tbody>\n",
       "</table>\n",
       "<p>5 rows × 2500 columns</p>\n",
       "</div>"
      ],
      "text/plain": [
       "       aa  aba  abandoned  abbswinston  abc  ability  ablaze  able  \\\n",
       "4996  0.0  0.0        0.0          0.0  0.0      0.0     0.0   0.0   \n",
       "3263  0.0  0.0        0.0          0.0  0.0      0.0     0.0   0.0   \n",
       "4907  0.0  0.0        0.0          0.0  0.0      0.0     0.0   0.0   \n",
       "2855  0.0  0.0        0.0          0.0  0.0      0.0     0.0   0.0   \n",
       "4716  0.0  0.0        0.0          0.0  0.0      0.0     0.0   0.0   \n",
       "\n",
       "      absolutely  abuse  ...   yo  yobe  york  you  young  youth  youtube  \\\n",
       "4996         0.0    0.0  ...  0.0   0.0   0.0  0.0    0.0    0.0      0.0   \n",
       "3263         0.0    0.0  ...  0.0   0.0   0.0  0.0    0.0    0.0      0.0   \n",
       "4907         0.0    0.0  ...  0.0   0.0   0.0  0.0    0.0    0.0      0.0   \n",
       "2855         0.0    0.0  ...  0.0   0.0   0.0  0.0    0.0    0.0      0.0   \n",
       "4716         0.0    0.0  ...  0.0   0.0   0.0  0.0    0.0    0.0      0.0   \n",
       "\n",
       "       yr  zombie  zone  \n",
       "4996  0.0     0.0   0.0  \n",
       "3263  0.0     0.0   0.0  \n",
       "4907  0.0     0.0   0.0  \n",
       "2855  0.0     0.0   0.0  \n",
       "4716  0.0     0.0   0.0  \n",
       "\n",
       "[5 rows x 2500 columns]"
      ]
     },
     "execution_count": 20,
     "metadata": {},
     "output_type": "execute_result"
    }
   ],
   "source": [
    "#train data of cleaned text after apply vectorizer\n",
    "X_train_text.head()"
   ]
  },
  {
   "cell_type": "code",
   "execution_count": 21,
   "metadata": {},
   "outputs": [
    {
     "data": {
      "text/html": [
       "<div>\n",
       "<style scoped>\n",
       "    .dataframe tbody tr th:only-of-type {\n",
       "        vertical-align: middle;\n",
       "    }\n",
       "\n",
       "    .dataframe tbody tr th {\n",
       "        vertical-align: top;\n",
       "    }\n",
       "\n",
       "    .dataframe thead th {\n",
       "        text-align: right;\n",
       "    }\n",
       "</style>\n",
       "<table border=\"1\" class=\"dataframe\">\n",
       "  <thead>\n",
       "    <tr style=\"text-align: right;\">\n",
       "      <th></th>\n",
       "      <th>039</th>\n",
       "      <th>360wisenews</th>\n",
       "      <th>5sosfam</th>\n",
       "      <th>abstorm</th>\n",
       "      <th>accident</th>\n",
       "      <th>afc</th>\n",
       "      <th>africa</th>\n",
       "      <th>afterlife</th>\n",
       "      <th>airplane</th>\n",
       "      <th>alaska</th>\n",
       "      <th>...</th>\n",
       "      <th>wx</th>\n",
       "      <th>yazidis</th>\n",
       "      <th>yes</th>\n",
       "      <th>yonews</th>\n",
       "      <th>youtube</th>\n",
       "      <th>yugvani</th>\n",
       "      <th>yyc</th>\n",
       "      <th>yycstorm</th>\n",
       "      <th>zionism</th>\n",
       "      <th>zionist</th>\n",
       "    </tr>\n",
       "  </thead>\n",
       "  <tbody>\n",
       "    <tr>\n",
       "      <th>4996</th>\n",
       "      <td>0.0</td>\n",
       "      <td>0.0</td>\n",
       "      <td>0.0</td>\n",
       "      <td>0.0</td>\n",
       "      <td>0.0</td>\n",
       "      <td>0.0</td>\n",
       "      <td>0.0</td>\n",
       "      <td>0.0</td>\n",
       "      <td>0.0</td>\n",
       "      <td>0.0</td>\n",
       "      <td>...</td>\n",
       "      <td>0.0</td>\n",
       "      <td>0.0</td>\n",
       "      <td>0.0</td>\n",
       "      <td>0.0</td>\n",
       "      <td>0.0</td>\n",
       "      <td>0.0</td>\n",
       "      <td>0.0</td>\n",
       "      <td>0.0</td>\n",
       "      <td>0.0</td>\n",
       "      <td>0.0</td>\n",
       "    </tr>\n",
       "    <tr>\n",
       "      <th>3263</th>\n",
       "      <td>0.0</td>\n",
       "      <td>0.0</td>\n",
       "      <td>0.0</td>\n",
       "      <td>0.0</td>\n",
       "      <td>0.0</td>\n",
       "      <td>0.0</td>\n",
       "      <td>0.0</td>\n",
       "      <td>0.0</td>\n",
       "      <td>0.0</td>\n",
       "      <td>0.0</td>\n",
       "      <td>...</td>\n",
       "      <td>0.0</td>\n",
       "      <td>0.0</td>\n",
       "      <td>0.0</td>\n",
       "      <td>0.0</td>\n",
       "      <td>0.0</td>\n",
       "      <td>0.0</td>\n",
       "      <td>0.0</td>\n",
       "      <td>0.0</td>\n",
       "      <td>0.0</td>\n",
       "      <td>0.0</td>\n",
       "    </tr>\n",
       "    <tr>\n",
       "      <th>4907</th>\n",
       "      <td>0.0</td>\n",
       "      <td>0.0</td>\n",
       "      <td>0.0</td>\n",
       "      <td>0.0</td>\n",
       "      <td>0.0</td>\n",
       "      <td>0.0</td>\n",
       "      <td>0.0</td>\n",
       "      <td>0.0</td>\n",
       "      <td>0.0</td>\n",
       "      <td>0.0</td>\n",
       "      <td>...</td>\n",
       "      <td>0.0</td>\n",
       "      <td>0.0</td>\n",
       "      <td>0.0</td>\n",
       "      <td>0.0</td>\n",
       "      <td>0.0</td>\n",
       "      <td>0.0</td>\n",
       "      <td>0.0</td>\n",
       "      <td>0.0</td>\n",
       "      <td>0.0</td>\n",
       "      <td>0.0</td>\n",
       "    </tr>\n",
       "    <tr>\n",
       "      <th>2855</th>\n",
       "      <td>0.0</td>\n",
       "      <td>0.0</td>\n",
       "      <td>0.0</td>\n",
       "      <td>0.0</td>\n",
       "      <td>0.0</td>\n",
       "      <td>0.0</td>\n",
       "      <td>0.0</td>\n",
       "      <td>0.0</td>\n",
       "      <td>0.0</td>\n",
       "      <td>0.0</td>\n",
       "      <td>...</td>\n",
       "      <td>0.0</td>\n",
       "      <td>0.0</td>\n",
       "      <td>0.0</td>\n",
       "      <td>0.0</td>\n",
       "      <td>0.0</td>\n",
       "      <td>0.0</td>\n",
       "      <td>0.0</td>\n",
       "      <td>0.0</td>\n",
       "      <td>0.0</td>\n",
       "      <td>0.0</td>\n",
       "    </tr>\n",
       "    <tr>\n",
       "      <th>4716</th>\n",
       "      <td>0.0</td>\n",
       "      <td>0.0</td>\n",
       "      <td>0.0</td>\n",
       "      <td>0.0</td>\n",
       "      <td>0.0</td>\n",
       "      <td>0.0</td>\n",
       "      <td>0.0</td>\n",
       "      <td>0.0</td>\n",
       "      <td>0.0</td>\n",
       "      <td>0.0</td>\n",
       "      <td>...</td>\n",
       "      <td>0.0</td>\n",
       "      <td>0.0</td>\n",
       "      <td>0.0</td>\n",
       "      <td>0.0</td>\n",
       "      <td>0.0</td>\n",
       "      <td>0.0</td>\n",
       "      <td>0.0</td>\n",
       "      <td>0.0</td>\n",
       "      <td>0.0</td>\n",
       "      <td>0.0</td>\n",
       "    </tr>\n",
       "  </tbody>\n",
       "</table>\n",
       "<p>5 rows × 500 columns</p>\n",
       "</div>"
      ],
      "text/plain": [
       "      039  360wisenews  5sosfam  abstorm  accident  afc  africa  afterlife  \\\n",
       "4996  0.0          0.0      0.0      0.0       0.0  0.0     0.0        0.0   \n",
       "3263  0.0          0.0      0.0      0.0       0.0  0.0     0.0        0.0   \n",
       "4907  0.0          0.0      0.0      0.0       0.0  0.0     0.0        0.0   \n",
       "2855  0.0          0.0      0.0      0.0       0.0  0.0     0.0        0.0   \n",
       "4716  0.0          0.0      0.0      0.0       0.0  0.0     0.0        0.0   \n",
       "\n",
       "      airplane  alaska  ...   wx  yazidis  yes  yonews  youtube  yugvani  yyc  \\\n",
       "4996       0.0     0.0  ...  0.0      0.0  0.0     0.0      0.0      0.0  0.0   \n",
       "3263       0.0     0.0  ...  0.0      0.0  0.0     0.0      0.0      0.0  0.0   \n",
       "4907       0.0     0.0  ...  0.0      0.0  0.0     0.0      0.0      0.0  0.0   \n",
       "2855       0.0     0.0  ...  0.0      0.0  0.0     0.0      0.0      0.0  0.0   \n",
       "4716       0.0     0.0  ...  0.0      0.0  0.0     0.0      0.0      0.0  0.0   \n",
       "\n",
       "      yycstorm  zionism  zionist  \n",
       "4996       0.0      0.0      0.0  \n",
       "3263       0.0      0.0      0.0  \n",
       "4907       0.0      0.0      0.0  \n",
       "2855       0.0      0.0      0.0  \n",
       "4716       0.0      0.0      0.0  \n",
       "\n",
       "[5 rows x 500 columns]"
      ]
     },
     "execution_count": 21,
     "metadata": {},
     "output_type": "execute_result"
    }
   ],
   "source": [
    "#train data of hashtags after apply vectorizer\n",
    "X_train_hashtags.head()"
   ]
  },
  {
   "cell_type": "code",
   "execution_count": 22,
   "metadata": {},
   "outputs": [],
   "source": [
    "#join the data of numeric columns with the data of cleaned text and data of hashtags after apply vectorizer\n",
    "X_train_join=X_train[numeric_cols]\\\n",
    ".join(X_train_text)\\\n",
    ".join(X_train_hashtags,lsuffix='t',rsuffix='h')\n",
    "\n",
    "X_test_join=X_test[numeric_cols]\\\n",
    ".join(X_test_text)\\\n",
    ".join(X_test_hashtags,lsuffix='t',rsuffix='h')"
   ]
  },
  {
   "cell_type": "markdown",
   "metadata": {},
   "source": [
    "#### Scaling"
   ]
  },
  {
   "cell_type": "code",
   "execution_count": 23,
   "metadata": {},
   "outputs": [],
   "source": [
    "#apply scaling to numeric columns that is not percentage\n",
    "scaler_cols=[col for col in numeric_cols if not re.match(r\"perc\\w*\",col)]"
   ]
  },
  {
   "cell_type": "code",
   "execution_count": 24,
   "metadata": {},
   "outputs": [
    {
     "data": {
      "text/plain": [
       "['text_length', 'nos_words']"
      ]
     },
     "execution_count": 24,
     "metadata": {},
     "output_type": "execute_result"
    }
   ],
   "source": [
    "#apply scaling to length of text and no of word tokens\n",
    "scaler_cols"
   ]
  },
  {
   "cell_type": "code",
   "execution_count": 25,
   "metadata": {},
   "outputs": [],
   "source": [
    "#use min max scaler\n",
    "scaler=MinMaxScaler()"
   ]
  },
  {
   "cell_type": "code",
   "execution_count": 26,
   "metadata": {},
   "outputs": [],
   "source": [
    "#train the min max scaler\n",
    "scaled_features=scaler.fit_transform(X_train[scaler_cols])\n",
    "scaled_features=pd.DataFrame(data=scaled_features,columns=scaler.feature_names_in_,index=X_train.index)\n",
    "for col in scaled_features:\n",
    "    X_train_join[col]=scaled_features[col]"
   ]
  },
  {
   "cell_type": "code",
   "execution_count": 27,
   "metadata": {},
   "outputs": [],
   "source": [
    "#apply the min max scaler\n",
    "scaled_features=scaler.transform(X_test[scaler_cols])\n",
    "scaled_features=pd.DataFrame(data=scaled_features,columns=scaler.feature_names_in_,index=X_test.index)\n",
    "for col in scaled_features:\n",
    "    X_test_join[col]=scaled_features[col]"
   ]
  },
  {
   "cell_type": "code",
   "execution_count": 28,
   "metadata": {},
   "outputs": [
    {
     "data": {
      "text/html": [
       "<div>\n",
       "<style scoped>\n",
       "    .dataframe tbody tr th:only-of-type {\n",
       "        vertical-align: middle;\n",
       "    }\n",
       "\n",
       "    .dataframe tbody tr th {\n",
       "        vertical-align: top;\n",
       "    }\n",
       "\n",
       "    .dataframe thead th {\n",
       "        text-align: right;\n",
       "    }\n",
       "</style>\n",
       "<table border=\"1\" class=\"dataframe\">\n",
       "  <thead>\n",
       "    <tr style=\"text-align: right;\">\n",
       "      <th></th>\n",
       "      <th>text_length</th>\n",
       "      <th>nos_words</th>\n",
       "      <th>perc_uppercase</th>\n",
       "      <th>perc_punc</th>\n",
       "      <th>perc_hashtags</th>\n",
       "      <th>aa</th>\n",
       "      <th>aba</th>\n",
       "      <th>abandoned</th>\n",
       "      <th>abbswinston</th>\n",
       "      <th>abc</th>\n",
       "      <th>...</th>\n",
       "      <th>wx</th>\n",
       "      <th>yazidis</th>\n",
       "      <th>yesh</th>\n",
       "      <th>yonews</th>\n",
       "      <th>youtubeh</th>\n",
       "      <th>yugvani</th>\n",
       "      <th>yyc</th>\n",
       "      <th>yycstorm</th>\n",
       "      <th>zionism</th>\n",
       "      <th>zionist</th>\n",
       "    </tr>\n",
       "  </thead>\n",
       "  <tbody>\n",
       "    <tr>\n",
       "      <th>4996</th>\n",
       "      <td>0.886667</td>\n",
       "      <td>0.580645</td>\n",
       "      <td>0.064286</td>\n",
       "      <td>0.057143</td>\n",
       "      <td>0.052632</td>\n",
       "      <td>0.0</td>\n",
       "      <td>0.0</td>\n",
       "      <td>0.0</td>\n",
       "      <td>0.0</td>\n",
       "      <td>0.0</td>\n",
       "      <td>...</td>\n",
       "      <td>0.0</td>\n",
       "      <td>0.0</td>\n",
       "      <td>0.0</td>\n",
       "      <td>0.0</td>\n",
       "      <td>0.0</td>\n",
       "      <td>0.0</td>\n",
       "      <td>0.0</td>\n",
       "      <td>0.0</td>\n",
       "      <td>0.0</td>\n",
       "      <td>0.0</td>\n",
       "    </tr>\n",
       "    <tr>\n",
       "      <th>3263</th>\n",
       "      <td>0.606667</td>\n",
       "      <td>0.451613</td>\n",
       "      <td>0.051020</td>\n",
       "      <td>0.040816</td>\n",
       "      <td>0.066667</td>\n",
       "      <td>0.0</td>\n",
       "      <td>0.0</td>\n",
       "      <td>0.0</td>\n",
       "      <td>0.0</td>\n",
       "      <td>0.0</td>\n",
       "      <td>...</td>\n",
       "      <td>0.0</td>\n",
       "      <td>0.0</td>\n",
       "      <td>0.0</td>\n",
       "      <td>0.0</td>\n",
       "      <td>0.0</td>\n",
       "      <td>0.0</td>\n",
       "      <td>0.0</td>\n",
       "      <td>0.0</td>\n",
       "      <td>0.0</td>\n",
       "      <td>0.0</td>\n",
       "    </tr>\n",
       "    <tr>\n",
       "      <th>4907</th>\n",
       "      <td>0.906667</td>\n",
       "      <td>0.709677</td>\n",
       "      <td>0.132867</td>\n",
       "      <td>0.083916</td>\n",
       "      <td>0.000000</td>\n",
       "      <td>0.0</td>\n",
       "      <td>0.0</td>\n",
       "      <td>0.0</td>\n",
       "      <td>0.0</td>\n",
       "      <td>0.0</td>\n",
       "      <td>...</td>\n",
       "      <td>0.0</td>\n",
       "      <td>0.0</td>\n",
       "      <td>0.0</td>\n",
       "      <td>0.0</td>\n",
       "      <td>0.0</td>\n",
       "      <td>0.0</td>\n",
       "      <td>0.0</td>\n",
       "      <td>0.0</td>\n",
       "      <td>0.0</td>\n",
       "      <td>0.0</td>\n",
       "    </tr>\n",
       "    <tr>\n",
       "      <th>2855</th>\n",
       "      <td>0.740000</td>\n",
       "      <td>0.548387</td>\n",
       "      <td>0.101695</td>\n",
       "      <td>0.067797</td>\n",
       "      <td>0.000000</td>\n",
       "      <td>0.0</td>\n",
       "      <td>0.0</td>\n",
       "      <td>0.0</td>\n",
       "      <td>0.0</td>\n",
       "      <td>0.0</td>\n",
       "      <td>...</td>\n",
       "      <td>0.0</td>\n",
       "      <td>0.0</td>\n",
       "      <td>0.0</td>\n",
       "      <td>0.0</td>\n",
       "      <td>0.0</td>\n",
       "      <td>0.0</td>\n",
       "      <td>0.0</td>\n",
       "      <td>0.0</td>\n",
       "      <td>0.0</td>\n",
       "      <td>0.0</td>\n",
       "    </tr>\n",
       "    <tr>\n",
       "      <th>4716</th>\n",
       "      <td>0.500000</td>\n",
       "      <td>0.258065</td>\n",
       "      <td>0.146341</td>\n",
       "      <td>0.073171</td>\n",
       "      <td>0.111111</td>\n",
       "      <td>0.0</td>\n",
       "      <td>0.0</td>\n",
       "      <td>0.0</td>\n",
       "      <td>0.0</td>\n",
       "      <td>0.0</td>\n",
       "      <td>...</td>\n",
       "      <td>0.0</td>\n",
       "      <td>0.0</td>\n",
       "      <td>0.0</td>\n",
       "      <td>0.0</td>\n",
       "      <td>0.0</td>\n",
       "      <td>0.0</td>\n",
       "      <td>0.0</td>\n",
       "      <td>0.0</td>\n",
       "      <td>0.0</td>\n",
       "      <td>0.0</td>\n",
       "    </tr>\n",
       "  </tbody>\n",
       "</table>\n",
       "<p>5 rows × 3005 columns</p>\n",
       "</div>"
      ],
      "text/plain": [
       "      text_length  nos_words  perc_uppercase  perc_punc  perc_hashtags   aa  \\\n",
       "4996     0.886667   0.580645        0.064286   0.057143       0.052632  0.0   \n",
       "3263     0.606667   0.451613        0.051020   0.040816       0.066667  0.0   \n",
       "4907     0.906667   0.709677        0.132867   0.083916       0.000000  0.0   \n",
       "2855     0.740000   0.548387        0.101695   0.067797       0.000000  0.0   \n",
       "4716     0.500000   0.258065        0.146341   0.073171       0.111111  0.0   \n",
       "\n",
       "      aba  abandoned  abbswinston  abc  ...   wx  yazidis  yesh  yonews  \\\n",
       "4996  0.0        0.0          0.0  0.0  ...  0.0      0.0   0.0     0.0   \n",
       "3263  0.0        0.0          0.0  0.0  ...  0.0      0.0   0.0     0.0   \n",
       "4907  0.0        0.0          0.0  0.0  ...  0.0      0.0   0.0     0.0   \n",
       "2855  0.0        0.0          0.0  0.0  ...  0.0      0.0   0.0     0.0   \n",
       "4716  0.0        0.0          0.0  0.0  ...  0.0      0.0   0.0     0.0   \n",
       "\n",
       "      youtubeh  yugvani  yyc  yycstorm  zionism  zionist  \n",
       "4996       0.0      0.0  0.0       0.0      0.0      0.0  \n",
       "3263       0.0      0.0  0.0       0.0      0.0      0.0  \n",
       "4907       0.0      0.0  0.0       0.0      0.0      0.0  \n",
       "2855       0.0      0.0  0.0       0.0      0.0      0.0  \n",
       "4716       0.0      0.0  0.0       0.0      0.0      0.0  \n",
       "\n",
       "[5 rows x 3005 columns]"
      ]
     },
     "execution_count": 28,
     "metadata": {},
     "output_type": "execute_result"
    }
   ],
   "source": [
    "#the joined train data after apply min max scaler\n",
    "X_train_join.head()"
   ]
  },
  {
   "cell_type": "markdown",
   "metadata": {},
   "source": [
    "### modelling"
   ]
  },
  {
   "cell_type": "markdown",
   "metadata": {},
   "source": [
    "2 parts of modelling: <br>\n",
    "1. apply individual models (logistic regression, SVC and random forest) <br>\n",
    "2. apply ensemble learning (soft voting classifier) to combine the individual models <br>"
   ]
  },
  {
   "cell_type": "markdown",
   "metadata": {},
   "source": [
    "metrics: accuracy score and F1 score"
   ]
  },
  {
   "cell_type": "code",
   "execution_count": 29,
   "metadata": {},
   "outputs": [],
   "source": [
    "#apply logistic regression\n",
    "model=LogisticRegression()\n",
    "model.fit(X_train_join,y_train)\n",
    "y_pred_proba=model.predict_proba(X_test_join)[:,1]\n",
    "cut_off=0.5\n",
    "y_pred=np.where(y_pred_proba>cut_off,1,0)\n",
    "score=metrics.accuracy_score(y_test,y_pred)\n",
    "f1=metrics.f1_score(y_test,y_pred)"
   ]
  },
  {
   "cell_type": "code",
   "execution_count": 30,
   "metadata": {},
   "outputs": [
    {
     "name": "stdout",
     "output_type": "stream",
     "text": [
      "0.8069599474720945 0.7570247933884298\n"
     ]
    }
   ],
   "source": [
    "#result of logistic regression\n",
    "print(score,f1)"
   ]
  },
  {
   "cell_type": "code",
   "execution_count": 31,
   "metadata": {},
   "outputs": [
    {
     "data": {
      "text/plain": [
       "0.8589768452080828"
      ]
     },
     "execution_count": 31,
     "metadata": {},
     "output_type": "execute_result"
    }
   ],
   "source": [
    "metrics.roc_auc_score(y_true=y_test,y_score=y_pred_proba)"
   ]
  },
  {
   "cell_type": "code",
   "execution_count": 32,
   "metadata": {},
   "outputs": [
    {
     "name": "stdout",
     "output_type": "stream",
     "text": [
      "0.8069599474720945 0.7570247933884298\n",
      "0.8056467498358503 0.7508417508417509\n",
      "0.7898883782009193 0.7163120567375887\n"
     ]
    }
   ],
   "source": [
    "#apply logistic regression, SVC and random forest\n",
    "models=[LogisticRegression(),SVC(),RandomForestClassifier()]\n",
    "scores=[]\n",
    "f1s=[]\n",
    "for model in models:\n",
    "    model.fit(X_train_join,y_train)\n",
    "    y_pred=model.predict(X_test_join)\n",
    "    #look at the metrics\n",
    "    score=metrics.accuracy_score(y_test,y_pred)\n",
    "    f1=f1_score(y_test,y_pred)\n",
    "    scores.append(score)\n",
    "    f1s.append(f1)\n",
    "    print(score,f1)"
   ]
  },
  {
   "cell_type": "code",
   "execution_count": 33,
   "metadata": {},
   "outputs": [],
   "source": [
    "#put the metrics of indiviual models into a dataframe\n",
    "df_models_results=pd.DataFrame()\n",
    "df_models_results['score']=scores\n",
    "df_models_results['F1_score']=f1s"
   ]
  },
  {
   "cell_type": "code",
   "execution_count": 36,
   "metadata": {},
   "outputs": [],
   "source": [
    "df_models_results.index=['Logistic_reg','SVC','random_forest']"
   ]
  },
  {
   "cell_type": "code",
   "execution_count": 37,
   "metadata": {},
   "outputs": [
    {
     "data": {
      "text/html": [
       "<div>\n",
       "<style scoped>\n",
       "    .dataframe tbody tr th:only-of-type {\n",
       "        vertical-align: middle;\n",
       "    }\n",
       "\n",
       "    .dataframe tbody tr th {\n",
       "        vertical-align: top;\n",
       "    }\n",
       "\n",
       "    .dataframe thead th {\n",
       "        text-align: right;\n",
       "    }\n",
       "</style>\n",
       "<table border=\"1\" class=\"dataframe\">\n",
       "  <thead>\n",
       "    <tr style=\"text-align: right;\">\n",
       "      <th></th>\n",
       "      <th>score</th>\n",
       "      <th>F1_score</th>\n",
       "    </tr>\n",
       "  </thead>\n",
       "  <tbody>\n",
       "    <tr>\n",
       "      <th>Logistic_reg</th>\n",
       "      <td>0.806960</td>\n",
       "      <td>0.757025</td>\n",
       "    </tr>\n",
       "    <tr>\n",
       "      <th>SVC</th>\n",
       "      <td>0.805647</td>\n",
       "      <td>0.750842</td>\n",
       "    </tr>\n",
       "    <tr>\n",
       "      <th>random_forest</th>\n",
       "      <td>0.789888</td>\n",
       "      <td>0.716312</td>\n",
       "    </tr>\n",
       "  </tbody>\n",
       "</table>\n",
       "</div>"
      ],
      "text/plain": [
       "                  score  F1_score\n",
       "Logistic_reg   0.806960  0.757025\n",
       "SVC            0.805647  0.750842\n",
       "random_forest  0.789888  0.716312"
      ]
     },
     "execution_count": 37,
     "metadata": {},
     "output_type": "execute_result"
    }
   ],
   "source": [
    "df_models_results"
   ]
  },
  {
   "cell_type": "code",
   "execution_count": 38,
   "metadata": {},
   "outputs": [
    {
     "name": "stdout",
     "output_type": "stream",
     "text": [
      "0.8128693368351937 0.7611064543168484\n"
     ]
    }
   ],
   "source": [
    "#apply ensemble learning (soft voting classifier)\n",
    "models=[LogisticRegression(),SVC(probability=True),RandomForestClassifier()]\n",
    "estimators=[(str(i),model) for i,model in enumerate(models)]\n",
    "ensemble_clf=VotingClassifier(estimators=estimators,voting='soft')\n",
    "ensemble_clf.fit(X_train_join,y_train)\n",
    "y_pred=ensemble_clf.predict(X_test_join)\n",
    "y_pred_proba=ensemble_clf.predict_proba(X_test_join)[:,1]\n",
    "#look at the metrics\n",
    "score=metrics.accuracy_score(y_test,y_pred)\n",
    "f1=f1_score(y_test,y_pred)\n",
    "print(score,f1)"
   ]
  },
  {
   "cell_type": "code",
   "execution_count": 39,
   "metadata": {},
   "outputs": [
    {
     "data": {
      "text/plain": [
       "0.864724113492682"
      ]
     },
     "execution_count": 39,
     "metadata": {},
     "output_type": "execute_result"
    }
   ],
   "source": [
    "ra_score=metrics.roc_auc_score(y_true=y_test,y_score=y_pred_proba)\n",
    "ra_score"
   ]
  },
  {
   "cell_type": "code",
   "execution_count": 40,
   "metadata": {},
   "outputs": [
    {
     "data": {
      "text/html": [
       "<div>\n",
       "<style scoped>\n",
       "    .dataframe tbody tr th:only-of-type {\n",
       "        vertical-align: middle;\n",
       "    }\n",
       "\n",
       "    .dataframe tbody tr th {\n",
       "        vertical-align: top;\n",
       "    }\n",
       "\n",
       "    .dataframe thead th {\n",
       "        text-align: right;\n",
       "    }\n",
       "</style>\n",
       "<table border=\"1\" class=\"dataframe\">\n",
       "  <thead>\n",
       "    <tr style=\"text-align: right;\">\n",
       "      <th></th>\n",
       "      <th>score</th>\n",
       "      <th>F1_score</th>\n",
       "      <th>roc_auc_score</th>\n",
       "    </tr>\n",
       "  </thead>\n",
       "  <tbody>\n",
       "    <tr>\n",
       "      <th>Ensemble_learning</th>\n",
       "      <td>0.812869</td>\n",
       "      <td>0.761106</td>\n",
       "      <td>0.864724</td>\n",
       "    </tr>\n",
       "  </tbody>\n",
       "</table>\n",
       "</div>"
      ],
      "text/plain": [
       "                      score  F1_score  roc_auc_score\n",
       "Ensemble_learning  0.812869  0.761106       0.864724"
      ]
     },
     "execution_count": 40,
     "metadata": {},
     "output_type": "execute_result"
    }
   ],
   "source": [
    "df_ensem_result=pd.DataFrame()\n",
    "df_ensem_result['score']=[score]\n",
    "df_ensem_result['F1_score']=[f1]\n",
    "df_ensem_result['roc_auc_score']=[ra_score]\n",
    "df_ensem_result.index=['Ensemble_learning']\n",
    "df_ensem_result"
   ]
  },
  {
   "cell_type": "code",
   "execution_count": 41,
   "metadata": {},
   "outputs": [],
   "source": [
    "fpr, tpr, thresholds = metrics.roc_curve(y_test, y_pred_proba)"
   ]
  },
  {
   "cell_type": "code",
   "execution_count": 44,
   "metadata": {},
   "outputs": [
    {
     "data": {
      "text/plain": [
       "[<matplotlib.lines.Line2D at 0x7ff4bd9c0e80>]"
      ]
     },
     "execution_count": 44,
     "metadata": {},
     "output_type": "execute_result"
    },
    {
     "data": {
      "image/png": "[encoded data removed]",
      "text/plain": [
       "<Figure size 432x288 with 1 Axes>"
      ]
     },
     "metadata": {
      "needs_background": "light"
     },
     "output_type": "display_data"
    }
   ],
   "source": [
    "models=[LogisticRegression(),RandomForestClassifier()]\n",
    "scores=[]\n",
    "f1s=[]\n",
    "ra_scores=[]\n",
    "for model in models:\n",
    "    model.fit(X_train_join,y_train)\n",
    "    y_pred=model.predict(X_test_join)\n",
    "    y_pred_proba=model.predict_proba(X_test_join)[:,1]\n",
    "    fpr, tpr, thresholds = metrics.roc_curve(y_test, y_pred_proba)\n",
    "    plt.plot(fpr,tpr,color='blue')\n",
    "    score=metrics.accuracy_score(y_test,y_pred)\n",
    "    f1=f1_score(y_test,y_pred)\n",
    "    ra_score=metrics.roc_auc_score(y_true=y_test,y_score=y_pred_proba)\n",
    "    scores.append(score)\n",
    "    f1s.append(f1)\n",
    "    ra_scores.append(ra_score)\n",
    "y_pred_proba=ensemble_clf.predict_proba(X_test_join)[:,1]\n",
    "fpr, tpr, thresholds = metrics.roc_curve(y_test, y_pred_proba)\n",
    "plt.plot(fpr,tpr,color='red')"
   ]
  },
  {
   "cell_type": "code",
   "execution_count": null,
   "metadata": {},
   "outputs": [],
   "source": []
  },
  {
   "cell_type": "code",
   "execution_count": null,
   "metadata": {},
   "outputs": [],
   "source": []
  },
  {
   "cell_type": "code",
   "execution_count": null,
   "metadata": {},
   "outputs": [],
   "source": []
  },
  {
   "cell_type": "code",
   "execution_count": null,
   "metadata": {},
   "outputs": [],
   "source": []
  },
  {
   "cell_type": "code",
   "execution_count": 242,
   "metadata": {},
   "outputs": [
    {
     "data": {
      "image/png": "[encoded data removed]",
      "text/plain": [
       "<Figure size 432x288 with 1 Axes>"
      ]
     },
     "metadata": {
      "needs_background": "light"
     },
     "output_type": "display_data"
    }
   ],
   "source": [
    "fpr, tpr, thresholds = metrics.roc_curve(y_test, y_pred_proba)\n",
    "plt.plot(fpr,tpr,color='red')\n",
    "plt.plot([0, 1], [0, 1], color=\"navy\",  linestyle=\"--\")\n",
    "plt.xlim([0.0, 1.0])\n",
    "plt.ylim([0.0, 1.0])\n",
    "plt.xlabel(\"False Positive Rate\")\n",
    "plt.ylabel(\"True Positive Rate\")\n",
    "plt.title(\"Receiver operating characteristic curve\")\n",
    "# plt.legend(loc=\"lower right\")\n",
    "plt.show()"
   ]
  },
  {
   "cell_type": "code",
   "execution_count": 243,
   "metadata": {},
   "outputs": [
    {
     "data": {
      "image/png": "[encoded data removed]",
      "text/plain": [
       "<Figure size 432x288 with 1 Axes>"
      ]
     },
     "metadata": {
      "needs_background": "light"
     },
     "output_type": "display_data"
    }
   ],
   "source": [
    "precision, recall, thresholds = metrics.precision_recall_curve(y_test,y_pred_proba)\n",
    "plt.plot(precision,recall,color='red')\n",
    "# plt.plot([0, 1], [0, 1], color=\"navy\",  linestyle=\"--\")\n",
    "plt.xlim([0.0, 1.0])\n",
    "plt.ylim([0.0, 1.0])\n",
    "plt.xlabel(\"precision\")\n",
    "plt.ylabel(\"recall\")\n",
    "plt.title(\"precision recall curve\")\n",
    "# plt.legend(loc=\"lower right\")\n",
    "plt.show()"
   ]
  },
  {
   "cell_type": "code",
   "execution_count": 224,
   "metadata": {},
   "outputs": [
    {
     "data": {
      "text/plain": [
       "3005"
      ]
     },
     "execution_count": 224,
     "metadata": {},
     "output_type": "execute_result"
    }
   ],
   "source": [
    "len(ensemble_clf.feature_names_in_)"
   ]
  },
  {
   "cell_type": "markdown",
   "metadata": {},
   "source": [
    "## Save model"
   ]
  },
  {
   "cell_type": "markdown",
   "metadata": {},
   "source": [
    "save the followings using joblib: <br>\n",
    "cleaned_text vectorizer <br>\n",
    "hashtags vectorizer <br>\n",
    "min-max scaler <br>\n",
    "ensemble learning classifier <br>"
   ]
  },
  {
   "cell_type": "code",
   "execution_count": 245,
   "metadata": {},
   "outputs": [],
   "source": [
    "model_dicts={'text_vec':text_vectorizer,'hashtags_vec':hashtags_vectorizer,\n",
    "            'scaler':scaler,'clf':ensemble_clf\n",
    "            }"
   ]
  },
  {
   "cell_type": "code",
   "execution_count": 246,
   "metadata": {},
   "outputs": [],
   "source": [
    "for name,model in model_dicts.items():\n",
    "    dump(model, f'{name}.joblib') "
   ]
  },
  {
   "cell_type": "code",
   "execution_count": null,
   "metadata": {},
   "outputs": [],
   "source": []
  }
 ],
 "metadata": {
  "kernelspec": {
   "display_name": "Python 3",
   "language": "python",
   "name": "python3"
  },
  "language_info": {
   "codemirror_mode": {
    "name": "ipython",
    "version": 3
   },
   "file_extension": ".py",
   "mimetype": "text/x-python",
   "name": "python",
   "nbconvert_exporter": "python",
   "pygments_lexer": "ipython3",
   "version": "3.8.3"
  }
 },
 "nbformat": 4,
 "nbformat_minor": 4
}
